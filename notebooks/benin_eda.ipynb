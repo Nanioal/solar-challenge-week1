{
 "cells": [
  {
   "cell_type": "markdown",
   "id": "ab0d2e63",
   "metadata": {},
   "source": [
    "### Solar Farm EDA - Benin (Malanville and Parakou)\n",
    "### Project: MoonLight Energy Solutions"
   ]
  },
  {
   "cell_type": "code",
   "execution_count": null,
   "id": "3ce98097",
   "metadata": {},
   "outputs": [],
   "source": [
    "\n",
    "\n",
    "# Import Required Libraries\n",
    "import pandas as pd\n",
    "import numpy as np\n",
    "from pathlib import Path\n",
    "import matplotlib.pyplot as plt\n",
    "import seaborn as sns\n",
    "from scipy.stats import zscore\n",
    "import plotly.express as px\n",
    "import plotly.graph_objects as go\n",
    "\n",
    "# Plot settings\n",
    "plt.style.use('seaborn-v0_8')\n",
    "sns.set_palette(\"husl\")\n",
    "\n",
    "\n",
    "# Data Loading and preparing\n",
    "# ----------------------------  \n",
    "# Configuration\n",
    "DATA_DIR = Path('../data/benin/')  # Adjust path if needed\n",
    "DATE_FORMAT = \"%Y-%m-%d %H:%M\"\n",
    "ENCODINGS = ['latin1', 'iso-8859-1', 'cp1252', 'utf-16']\n",
    "\n",
    "# Robust CSV reader\n",
    "def try_read_csv(filepath):\n",
    "    for enc in ENCODINGS:\n",
    "        try:\n",
    "            df = pd.read_csv(\n",
    "                filepath,\n",
    "                encoding=enc,\n",
    "                parse_dates=['Timestamp'],\n",
    "                date_format=DATE_FORMAT,\n",
    "                low_memory=False,\n",
    "                skiprows=[1]\n",
    "            )\n",
    "            return df\n",
    "        except UnicodeDecodeError:\n",
    "            continue\n",
    "    raise UnicodeDecodeError(f\"Failed to read {filepath} with any of the tried encodings.\")\n",
    "\n",
    "# Load and clean Benin data\n",
    "def load_and_clean_data():\n",
    "    print(\"Loading Benin solar data...\")\n",
    "    \n",
    "    malanville = try_read_csv(DATA_DIR / 'solar-measurements_benin-malanville_qc.csv')\n",
    "    parakou = try_read_csv(DATA_DIR / 'solar-measurements_benin-parakou_qc.csv')\n",
    "    malanville['Location'] = 'Malanville'\n",
    "    parakou['Location'] = 'Parakou'\n",
    "    \n",
    "    benin_df = pd.concat([malanville, parakou], ignore_index=True)\n",
    "    \n",
    "    try:\n",
    "        malanville_y2 = try_read_csv(DATA_DIR / 'solar-measurements_benin-malanville_qc_year2.csv')\n",
    "        parakou_y2 = try_read_csv(DATA_DIR / 'solar-measurements_benin-parakou_qc_year2.csv')\n",
    "        malanville_y2['Location'] = 'Malanville'\n",
    "        parakou_y2['Location'] = 'Parakou'\n",
    "        benin_df = pd.concat([benin_df, malanville_y2, parakou_y2], ignore_index=True)\n",
    "        print(\"Year 2 data loaded successfully.\")\n",
    "    except FileNotFoundError:\n",
    "        print(\"Year 2 data not found. Proceeding with Year 1 data only.\")\n",
    "    \n",
    "    return benin_df\n",
    "\n",
    "# Load data\n",
    "benin_df = load_and_clean_data()\n",
    "\n",
    "# ----------------------------\n",
    "# Summary Stats & Missing Values\n",
    "# ----------------------------\n",
    "\n",
    "print(\"\\nDescriptive statistics:\")\n",
    "display(benin_df.describe())\n",
    "\n",
    "print(\"\\nMissing value count per column:\")\n",
    "display(benin_df.isna().sum())\n",
    "\n",
    "print(\"\\nColumns with >5% missing values:\")\n",
    "missing_report = benin_df.isna().mean() * 100\n",
    "display(missing_report[missing_report > 5])\n",
    "\n",
    "# ----------------------------\n",
    "# Outlier Detection\n",
    "# ----------------------------\n",
    "\n",
    "cols_to_check = ['GHI', 'DNI', 'DHI', 'ModA', 'ModB', 'WS', 'WSgust']\n",
    "temp_df = benin_df[cols_to_check].apply(pd.to_numeric, errors='coerce')\n",
    "temp_df = temp_df.fillna(temp_df.median())\n",
    "\n",
    "means = temp_df.mean()\n",
    "stds = temp_df.std()\n",
    "z_scores = (temp_df - means) / stds\n",
    "outliers = (z_scores.abs() > 3).any(axis=1)\n",
    "\n",
    "print(f\"Outliers detected: {outliers.sum()} out of {len(temp_df)} rows\")\n",
    "\n",
    "# ----------------------------\n",
    "# Data Cleaning\n",
    "# ----------------------------\n",
    "\n",
    "df_clean = benin_df.copy()\n",
    "\n",
    "# Remove \"Comments\" column if it exists\n",
    "df_clean.drop(columns=['Comments'], inplace=True, errors='ignore')\n",
    "\n",
    "# Convert and impute numeric columns\n",
    "df_clean[cols_to_check] = df_clean[cols_to_check].apply(pd.to_numeric, errors='coerce')\n",
    "df_clean[cols_to_check] = df_clean[cols_to_check].fillna(df_clean[cols_to_check].median())\n",
    "\n",
    "# ----------------------------\n",
    "# Export Cleaned CSV\n",
    "# ----------------------------\n",
    "\n",
    "output_path = Path('../data/benin/benin_clean.csv')\n",
    "df_clean.to_csv(output_path, index=False)\n",
    "print(f\"\\nCleaned dataset saved to {output_path}\")\n"
   ]
  },
  {
   "cell_type": "markdown",
   "id": "a711214e",
   "metadata": {},
   "source": [
    "#### Time series analysis"
   ]
  },
  {
   "cell_type": "code",
   "execution_count": null,
   "id": "d836439b",
   "metadata": {},
   "outputs": [],
   "source": [
    "# Ensure 'Tamb' is numeric for plotting\n",
    "df_clean['Tamb'] = pd.to_numeric(df_clean['Tamb'], errors='coerce')\n",
    "\n",
    "for col in ['GHI', 'DNI', 'DHI', 'Tamb']:\n",
    "    plt.figure(figsize=(14, 4))\n",
    "    sns.lineplot(x='Timestamp', y=col, data=df_clean.iloc[::1000])\n",
    "    plt.title(f'{col} over Time (Downsampled)')\n",
    "    plt.xlabel('Time')\n",
    "    plt.ylabel(col)\n",
    "    plt.tight_layout()\n",
    "    plt.show()\n"
   ]
  },
  {
   "cell_type": "markdown",
   "id": "200b4c44",
   "metadata": {},
   "source": [
    "\n",
    "#### Cleaning Impact Analysis\n"
   ]
  },
  {
   "cell_type": "code",
   "execution_count": null,
   "id": "347460f7",
   "metadata": {},
   "outputs": [],
   "source": [
    "\n",
    "df_clean['is_outlier'] = outliers  # from earlier Z-score calc\n",
    "mod_avg = df_clean.groupby('is_outlier')[['ModA', 'ModB']].mean()\n",
    "\n",
    "mod_avg.plot(kind='bar', figsize=(8, 5))\n",
    "plt.title('ModA & ModB Averages (Pre vs Post Cleaning)')\n",
    "plt.ylabel('Average Value')\n",
    "plt.xticks([0, 1], ['Clean', 'Outlier'], rotation=0)\n",
    "plt.tight_layout()\n",
    "plt.show()"
   ]
  },
  {
   "cell_type": "markdown",
   "id": "91241869",
   "metadata": {},
   "source": [
    "#### Correlation & Scatter Analysis"
   ]
  },
  {
   "cell_type": "code",
   "execution_count": null,
   "id": "006e2e46",
   "metadata": {},
   "outputs": [],
   "source": [
    "\n",
    "corr_cols = ['GHI', 'DNI', 'DHI', 'ModA', 'ModB', 'Tamb', 'RH', 'WS', 'WSgust']\n",
    "plt.figure(figsize=(10, 8))\n",
    "sns.heatmap(df_clean[corr_cols].corr(), annot=True, cmap='coolwarm', fmt='.2f')\n",
    "plt.title('Correlation Heatmap')\n",
    "plt.tight_layout()\n",
    "plt.show()"
   ]
  },
  {
   "cell_type": "markdown",
   "id": "04200a53",
   "metadata": {},
   "source": [
    "#### Scatter PLots"
   ]
  },
  {
   "cell_type": "code",
   "execution_count": null,
   "id": "934272d3",
   "metadata": {},
   "outputs": [],
   "source": [
    "\n",
    "scatter_pairs = [\n",
    "    ('WS', 'GHI'),\n",
    "    ('WSgust', 'GHI'),\n",
    "    ('WD', 'GHI'),\n",
    "    ('RH', 'Tamb'),\n",
    "    ('RH', 'GHI')\n",
    "]\n",
    "\n",
    "for x, y in scatter_pairs:\n",
    "    # Ensure both columns are numeric for plotting\n",
    "    df_plot = df_clean.copy()\n",
    "    df_plot[x] = pd.to_numeric(df_plot[x], errors='coerce')\n",
    "    df_plot[y] = pd.to_numeric(df_plot[y], errors='coerce')\n",
    "    \n",
    "    plt.figure(figsize=(6, 4))\n",
    "    sns.scatterplot(x=x, y=y, data=df_plot, alpha=0.5)\n",
    "    plt.title(f'{x} vs {y}')\n",
    "    plt.tight_layout()\n",
    "    plt.show()"
   ]
  },
  {
   "cell_type": "markdown",
   "id": "afc17bf6",
   "metadata": {},
   "source": [
    "#### Wind & Distribution Analysis"
   ]
  },
  {
   "cell_type": "code",
   "execution_count": null,
   "id": "94618373",
   "metadata": {},
   "outputs": [],
   "source": [
    "\n",
    "# Histogram\n",
    "df_clean[['GHI', 'WS']].hist(bins=50, figsize=(12, 5))\n",
    "plt.suptitle('Histograms of GHI and WS')\n",
    "plt.tight_layout()\n",
    "plt.show()"
   ]
  },
  {
   "cell_type": "code",
   "execution_count": null,
   "id": "6a0cfac5",
   "metadata": {},
   "outputs": [],
   "source": [
    "%pip install nbformat\n",
    "\n",
    "# Wind rose plot using Plotly\n",
    "fig = px.scatter_polar(df_clean, r='WS', theta='WD', color='Location',\n",
    "                       title='Wind Rose (Speed vs Direction)', opacity=0.6)\n",
    "fig.show()\n"
   ]
  },
  {
   "cell_type": "markdown",
   "id": "d9cc7942",
   "metadata": {},
   "source": [
    "#### Temperature & RH Influence"
   ]
  },
  {
   "cell_type": "code",
   "execution_count": null,
   "id": "5c368ccb",
   "metadata": {},
   "outputs": [],
   "source": [
    "\n",
    "# Ensuring 'RH' is numeric and handle \"NAN\" strings\n",
    "df_clean['RH'] = pd.to_numeric(df_clean['RH'], errors='coerce')\n",
    "\n",
    "plt.figure(figsize=(6, 4))\n",
    "sns.scatterplot(x='RH', y='Tamb', data=df_clean, alpha=0.5)\n",
    "plt.title('Relative Humidity vs Ambient Temperature')\n",
    "plt.tight_layout()\n",
    "plt.show()\n",
    "\n",
    "plt.figure(figsize=(6, 4))\n",
    "sns.scatterplot(x='RH', y='GHI', data=df_clean, alpha=0.5)\n",
    "plt.title('Relative Humidity vs Global Horizontal Irradiance')\n",
    "plt.tight_layout()\n",
    "plt.show()"
   ]
  },
  {
   "cell_type": "markdown",
   "id": "af45d4ba",
   "metadata": {},
   "source": [
    "#### Bubble Chart"
   ]
  },
  {
   "cell_type": "code",
   "execution_count": null,
   "id": "9514c157",
   "metadata": {},
   "outputs": [],
   "source": [
    "\n",
    "# Remove rows with NaN in 'Tamb', 'GHI', or 'RH' for plotting\n",
    "plot_df = df_clean.dropna(subset=['Tamb', 'GHI', 'RH'])\n",
    "\n",
    "fig = px.scatter(plot_df, x='Tamb', y='GHI', size='RH', color='Location',\n",
    "                 title='GHI vs Tamb (Bubble Size = RH)',\n",
    "                 labels={'Tamb': 'Ambient Temp', 'GHI': 'Global Horizontal Irradiance'},\n",
    "                 opacity=0.6)\n",
    "fig.show()\n"
   ]
  }
 ],
 "metadata": {
  "kernelspec": {
   "display_name": ".venv",
   "language": "python",
   "name": "python3"
  },
  "language_info": {
   "codemirror_mode": {
    "name": "ipython",
    "version": 3
   },
   "file_extension": ".py",
   "mimetype": "text/x-python",
   "name": "python",
   "nbconvert_exporter": "python",
   "pygments_lexer": "ipython3",
   "version": "3.13.2"
  }
 },
 "nbformat": 4,
 "nbformat_minor": 5
}
